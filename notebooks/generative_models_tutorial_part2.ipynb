{
  "cells": [
    {
      "cell_type": "markdown",
      "metadata": {
        "id": "RtWJdzBMYAp3"
      },
      "source": [
        "# Building and applying Generative Models using PyTorch\n",
        "\n",
        "**Author:** [Hasib Zunair](https://hasibzunair.github.io/)<br>\n",
        "**Date created:** 2024/03/20<br>\n",
        "**Last modified:** 2024/06/10<br>\n"
      ]
    },
    {
      "cell_type": "markdown",
      "metadata": {
        "id": "00frjOfsYAp7"
      },
      "source": [
        "## 2. Finetuning a LLM to follow instructions (Instruction finetuning)\n",
        "\n",
        "Pretrained LLMs are good at text completion, but not good at following instructions.\n",
        "\n",
        "Here we build a model to follow instructions. Instruction finetuned models can usually perform many tasks. An example:\n",
        "\n",
        "Convert 45 kilometers to meters (Instruction) -> 45 kilometers is 45000 meters. (Desired Response)\n",
        "\n",
        "Instruction finetuning is often referred to as \"supervised instruction finetuning\" because it involves training a model on a dataset where the input-output pairs are explicitly provided."
      ]
    },
    {
      "cell_type": "code",
      "execution_count": 1,
      "metadata": {
        "colab": {
          "base_uri": "https://localhost:8080/"
        },
        "id": "twettqlFYAp8",
        "outputId": "adb396f5-9956-4f6f-ade5-fff184fc80a2"
      },
      "outputs": [
        {
          "output_type": "stream",
          "name": "stdout",
          "text": [
            "Cloning into 'LLMs-from-scratch'...\n",
            "remote: Enumerating objects: 3452, done.\u001b[K\n",
            "remote: Counting objects: 100% (994/994), done.\u001b[K\n",
            "remote: Compressing objects: 100% (228/228), done.\u001b[K\n",
            "remote: Total 3452 (delta 835), reused 834 (delta 766), pack-reused 2458\u001b[K\n",
            "Receiving objects: 100% (3452/3452), 9.60 MiB | 8.45 MiB/s, done.\n",
            "Resolving deltas: 100% (2161/2161), done.\n",
            "/content/LLMs-from-scratch/ch07/01_main-chapter-code\n"
          ]
        }
      ],
      "source": [
        "!git clone https://github.com/rasbt/LLMs-from-scratch\n",
        "%cd LLMs-from-scratch/ch07/01_main-chapter-code/"
      ]
    },
    {
      "cell_type": "code",
      "execution_count": 2,
      "metadata": {
        "colab": {
          "base_uri": "https://localhost:8080/"
        },
        "id": "lKBV4_TXYAp-",
        "outputId": "624294ea-73f8-43e6-b1c1-c008ffb37ab0"
      },
      "outputs": [
        {
          "output_type": "stream",
          "name": "stdout",
          "text": [
            "Collecting tiktoken\n",
            "  Downloading tiktoken-0.7.0-cp310-cp310-manylinux_2_17_x86_64.manylinux2014_x86_64.whl (1.1 MB)\n",
            "\u001b[?25l     \u001b[90m━━━━━━━━━━━━━━━━━━━━━━━━━━━━━━━━━━━━━━━━\u001b[0m \u001b[32m0.0/1.1 MB\u001b[0m \u001b[31m?\u001b[0m eta \u001b[36m-:--:--\u001b[0m\r\u001b[2K     \u001b[91m━━\u001b[0m\u001b[90m╺\u001b[0m\u001b[90m━━━━━━━━━━━━━━━━━━━━━━━━━━━━━━━━━━━━━\u001b[0m \u001b[32m0.1/1.1 MB\u001b[0m \u001b[31m1.8 MB/s\u001b[0m eta \u001b[36m0:00:01\u001b[0m\r\u001b[2K     \u001b[91m━━━━━━━━━━━━━━━━━━━━\u001b[0m\u001b[91m╸\u001b[0m\u001b[90m━━━━━━━━━━━━━━━━━━━\u001b[0m \u001b[32m0.6/1.1 MB\u001b[0m \u001b[31m8.2 MB/s\u001b[0m eta \u001b[36m0:00:01\u001b[0m\r\u001b[2K     \u001b[91m━━━━━━━━━━━━━━━━━━━━━━━━━━━━━━━━━━━━━━━\u001b[0m\u001b[91m╸\u001b[0m \u001b[32m1.1/1.1 MB\u001b[0m \u001b[31m13.7 MB/s\u001b[0m eta \u001b[36m0:00:01\u001b[0m\r\u001b[2K     \u001b[90m━━━━━━━━━━━━━━━━━━━━━━━━━━━━━━━━━━━━━━━━\u001b[0m \u001b[32m1.1/1.1 MB\u001b[0m \u001b[31m10.1 MB/s\u001b[0m eta \u001b[36m0:00:00\u001b[0m\n",
            "\u001b[?25hRequirement already satisfied: regex>=2022.1.18 in /usr/local/lib/python3.10/dist-packages (from tiktoken) (2024.5.15)\n",
            "Requirement already satisfied: requests>=2.26.0 in /usr/local/lib/python3.10/dist-packages (from tiktoken) (2.31.0)\n",
            "Requirement already satisfied: charset-normalizer<4,>=2 in /usr/local/lib/python3.10/dist-packages (from requests>=2.26.0->tiktoken) (3.3.2)\n",
            "Requirement already satisfied: idna<4,>=2.5 in /usr/local/lib/python3.10/dist-packages (from requests>=2.26.0->tiktoken) (3.7)\n",
            "Requirement already satisfied: urllib3<3,>=1.21.1 in /usr/local/lib/python3.10/dist-packages (from requests>=2.26.0->tiktoken) (2.0.7)\n",
            "Requirement already satisfied: certifi>=2017.4.17 in /usr/local/lib/python3.10/dist-packages (from requests>=2.26.0->tiktoken) (2024.6.2)\n",
            "Installing collected packages: tiktoken\n",
            "Successfully installed tiktoken-0.7.0\n",
            "Requirement already satisfied: tensorflow==2.15.0 in /usr/local/lib/python3.10/dist-packages (2.15.0)\n",
            "Requirement already satisfied: absl-py>=1.0.0 in /usr/local/lib/python3.10/dist-packages (from tensorflow==2.15.0) (1.4.0)\n",
            "Requirement already satisfied: astunparse>=1.6.0 in /usr/local/lib/python3.10/dist-packages (from tensorflow==2.15.0) (1.6.3)\n",
            "Requirement already satisfied: flatbuffers>=23.5.26 in /usr/local/lib/python3.10/dist-packages (from tensorflow==2.15.0) (24.3.25)\n",
            "Requirement already satisfied: gast!=0.5.0,!=0.5.1,!=0.5.2,>=0.2.1 in /usr/local/lib/python3.10/dist-packages (from tensorflow==2.15.0) (0.5.4)\n",
            "Requirement already satisfied: google-pasta>=0.1.1 in /usr/local/lib/python3.10/dist-packages (from tensorflow==2.15.0) (0.2.0)\n",
            "Requirement already satisfied: h5py>=2.9.0 in /usr/local/lib/python3.10/dist-packages (from tensorflow==2.15.0) (3.9.0)\n",
            "Requirement already satisfied: libclang>=13.0.0 in /usr/local/lib/python3.10/dist-packages (from tensorflow==2.15.0) (18.1.1)\n",
            "Requirement already satisfied: ml-dtypes~=0.2.0 in /usr/local/lib/python3.10/dist-packages (from tensorflow==2.15.0) (0.2.0)\n",
            "Requirement already satisfied: numpy<2.0.0,>=1.23.5 in /usr/local/lib/python3.10/dist-packages (from tensorflow==2.15.0) (1.25.2)\n",
            "Requirement already satisfied: opt-einsum>=2.3.2 in /usr/local/lib/python3.10/dist-packages (from tensorflow==2.15.0) (3.3.0)\n",
            "Requirement already satisfied: packaging in /usr/local/lib/python3.10/dist-packages (from tensorflow==2.15.0) (24.1)\n",
            "Requirement already satisfied: protobuf!=4.21.0,!=4.21.1,!=4.21.2,!=4.21.3,!=4.21.4,!=4.21.5,<5.0.0dev,>=3.20.3 in /usr/local/lib/python3.10/dist-packages (from tensorflow==2.15.0) (3.20.3)\n",
            "Requirement already satisfied: setuptools in /usr/local/lib/python3.10/dist-packages (from tensorflow==2.15.0) (67.7.2)\n",
            "Requirement already satisfied: six>=1.12.0 in /usr/local/lib/python3.10/dist-packages (from tensorflow==2.15.0) (1.16.0)\n",
            "Requirement already satisfied: termcolor>=1.1.0 in /usr/local/lib/python3.10/dist-packages (from tensorflow==2.15.0) (2.4.0)\n",
            "Requirement already satisfied: typing-extensions>=3.6.6 in /usr/local/lib/python3.10/dist-packages (from tensorflow==2.15.0) (4.12.2)\n",
            "Requirement already satisfied: wrapt<1.15,>=1.11.0 in /usr/local/lib/python3.10/dist-packages (from tensorflow==2.15.0) (1.14.1)\n",
            "Requirement already satisfied: tensorflow-io-gcs-filesystem>=0.23.1 in /usr/local/lib/python3.10/dist-packages (from tensorflow==2.15.0) (0.37.0)\n",
            "Requirement already satisfied: grpcio<2.0,>=1.24.3 in /usr/local/lib/python3.10/dist-packages (from tensorflow==2.15.0) (1.64.1)\n",
            "Requirement already satisfied: tensorboard<2.16,>=2.15 in /usr/local/lib/python3.10/dist-packages (from tensorflow==2.15.0) (2.15.2)\n",
            "Requirement already satisfied: tensorflow-estimator<2.16,>=2.15.0 in /usr/local/lib/python3.10/dist-packages (from tensorflow==2.15.0) (2.15.0)\n",
            "Requirement already satisfied: keras<2.16,>=2.15.0 in /usr/local/lib/python3.10/dist-packages (from tensorflow==2.15.0) (2.15.0)\n",
            "Requirement already satisfied: wheel<1.0,>=0.23.0 in /usr/local/lib/python3.10/dist-packages (from astunparse>=1.6.0->tensorflow==2.15.0) (0.43.0)\n",
            "Requirement already satisfied: google-auth<3,>=1.6.3 in /usr/local/lib/python3.10/dist-packages (from tensorboard<2.16,>=2.15->tensorflow==2.15.0) (2.27.0)\n",
            "Requirement already satisfied: google-auth-oauthlib<2,>=0.5 in /usr/local/lib/python3.10/dist-packages (from tensorboard<2.16,>=2.15->tensorflow==2.15.0) (1.2.0)\n",
            "Requirement already satisfied: markdown>=2.6.8 in /usr/local/lib/python3.10/dist-packages (from tensorboard<2.16,>=2.15->tensorflow==2.15.0) (3.6)\n",
            "Requirement already satisfied: requests<3,>=2.21.0 in /usr/local/lib/python3.10/dist-packages (from tensorboard<2.16,>=2.15->tensorflow==2.15.0) (2.31.0)\n",
            "Requirement already satisfied: tensorboard-data-server<0.8.0,>=0.7.0 in /usr/local/lib/python3.10/dist-packages (from tensorboard<2.16,>=2.15->tensorflow==2.15.0) (0.7.2)\n",
            "Requirement already satisfied: werkzeug>=1.0.1 in /usr/local/lib/python3.10/dist-packages (from tensorboard<2.16,>=2.15->tensorflow==2.15.0) (3.0.3)\n",
            "Requirement already satisfied: cachetools<6.0,>=2.0.0 in /usr/local/lib/python3.10/dist-packages (from google-auth<3,>=1.6.3->tensorboard<2.16,>=2.15->tensorflow==2.15.0) (5.3.3)\n",
            "Requirement already satisfied: pyasn1-modules>=0.2.1 in /usr/local/lib/python3.10/dist-packages (from google-auth<3,>=1.6.3->tensorboard<2.16,>=2.15->tensorflow==2.15.0) (0.4.0)\n",
            "Requirement already satisfied: rsa<5,>=3.1.4 in /usr/local/lib/python3.10/dist-packages (from google-auth<3,>=1.6.3->tensorboard<2.16,>=2.15->tensorflow==2.15.0) (4.9)\n",
            "Requirement already satisfied: requests-oauthlib>=0.7.0 in /usr/local/lib/python3.10/dist-packages (from google-auth-oauthlib<2,>=0.5->tensorboard<2.16,>=2.15->tensorflow==2.15.0) (1.3.1)\n",
            "Requirement already satisfied: charset-normalizer<4,>=2 in /usr/local/lib/python3.10/dist-packages (from requests<3,>=2.21.0->tensorboard<2.16,>=2.15->tensorflow==2.15.0) (3.3.2)\n",
            "Requirement already satisfied: idna<4,>=2.5 in /usr/local/lib/python3.10/dist-packages (from requests<3,>=2.21.0->tensorboard<2.16,>=2.15->tensorflow==2.15.0) (3.7)\n",
            "Requirement already satisfied: urllib3<3,>=1.21.1 in /usr/local/lib/python3.10/dist-packages (from requests<3,>=2.21.0->tensorboard<2.16,>=2.15->tensorflow==2.15.0) (2.0.7)\n",
            "Requirement already satisfied: certifi>=2017.4.17 in /usr/local/lib/python3.10/dist-packages (from requests<3,>=2.21.0->tensorboard<2.16,>=2.15->tensorflow==2.15.0) (2024.6.2)\n",
            "Requirement already satisfied: MarkupSafe>=2.1.1 in /usr/local/lib/python3.10/dist-packages (from werkzeug>=1.0.1->tensorboard<2.16,>=2.15->tensorflow==2.15.0) (2.1.5)\n",
            "Requirement already satisfied: pyasn1<0.7.0,>=0.4.6 in /usr/local/lib/python3.10/dist-packages (from pyasn1-modules>=0.2.1->google-auth<3,>=1.6.3->tensorboard<2.16,>=2.15->tensorflow==2.15.0) (0.6.0)\n",
            "Requirement already satisfied: oauthlib>=3.0.0 in /usr/local/lib/python3.10/dist-packages (from requests-oauthlib>=0.7.0->google-auth-oauthlib<2,>=0.5->tensorboard<2.16,>=2.15->tensorflow==2.15.0) (3.2.2)\n",
            "matplotlib version: 3.7.1\n",
            "numpy version: 1.25.2\n",
            "tiktoken version: 0.7.0\n",
            "torch version: 2.3.0+cu121\n",
            "tensorflow version: 2.15.0\n",
            "pandas version: 2.0.3\n"
          ]
        }
      ],
      "source": [
        "from importlib.metadata import version\n",
        "\n",
        "!pip install tiktoken\n",
        "!pip install tensorflow==2.15.0\n",
        "\n",
        "pkgs = [\"matplotlib\",\n",
        "        \"numpy\",\n",
        "        \"tiktoken\",\n",
        "        \"torch\",\n",
        "        \"tensorflow\", # For OpenAI's pretrained weights\n",
        "        \"pandas\"      # Dataset loading\n",
        "       ]\n",
        "for p in pkgs:\n",
        "    print(f\"{p} version: {version(p)}\")"
      ]
    },
    {
      "cell_type": "markdown",
      "metadata": {
        "id": "MreyRpRNNBOI"
      },
      "source": [
        "### Prepare dataset\n",
        "\n",
        "Download the instruction dataset. It consists of instruction, input and output text pairs."
      ]
    },
    {
      "cell_type": "code",
      "execution_count": 3,
      "metadata": {
        "colab": {
          "base_uri": "https://localhost:8080/"
        },
        "id": "7fcJFED7LKeq",
        "outputId": "0e009bc2-b013-4742-9660-15b8d26c47ba"
      },
      "outputs": [
        {
          "output_type": "stream",
          "name": "stdout",
          "text": [
            "Number of entries: 1100\n"
          ]
        }
      ],
      "source": [
        "import json\n",
        "import os\n",
        "import urllib\n",
        "\n",
        "\n",
        "def download_and_load_file(file_path, url):\n",
        "\n",
        "    if not os.path.exists(file_path):\n",
        "        with urllib.request.urlopen(url) as response:\n",
        "            text_data = response.read().decode('utf-8')\n",
        "        with open(file_path, \"w\", encoding=\"utf-8\") as file:\n",
        "            file.write(text_data)\n",
        "    else:\n",
        "        with open(file_path, \"r\", encoding=\"utf-8\") as file:\n",
        "            text_data = file.read()\n",
        "\n",
        "    with open(file_path, \"r\") as file:\n",
        "        data = json.load(file)\n",
        "\n",
        "    return data\n",
        "\n",
        "\n",
        "file_path = \"instruction-data.json\"\n",
        "url = \"https://raw.githubusercontent.com/rasbt/LLMs-from-scratch/main/ch07/01_main-chapter-code/instruction-data.json\"\n",
        "\n",
        "data = download_and_load_file(file_path, url)\n",
        "print(\"Number of entries:\", len(data))"
      ]
    },
    {
      "cell_type": "markdown",
      "metadata": {
        "id": "t9CkROeJNfof"
      },
      "source": [
        "Each item in the `data` list we loaded from the JSON file above is a dictionary in the following form:"
      ]
    },
    {
      "cell_type": "code",
      "execution_count": 4,
      "metadata": {
        "colab": {
          "base_uri": "https://localhost:8080/"
        },
        "id": "k-4On2iqLKhV",
        "outputId": "b242814f-a960-49d9-8d23-61d99d1cc755"
      },
      "outputs": [
        {
          "output_type": "stream",
          "name": "stdout",
          "text": [
            "Example entry:\n",
            "\n",
            " {'instruction': 'Identify the correct spelling of the following word.', 'input': 'Ocassion', 'output': \"The correct spelling is 'Occasion.'\"}\n"
          ]
        }
      ],
      "source": [
        "print(\"Example entry:\\n\\n\", data[50])"
      ]
    },
    {
      "cell_type": "code",
      "execution_count": 5,
      "metadata": {
        "colab": {
          "base_uri": "https://localhost:8080/"
        },
        "id": "0CCRg2RrNYbs",
        "outputId": "4204b7a8-baae-4e0b-c4be-8c64180f802f"
      },
      "outputs": [
        {
          "output_type": "stream",
          "name": "stdout",
          "text": [
            "Another example entry:\n",
            "\n",
            " {'instruction': \"What is an antonym of 'complicated'?\", 'input': '', 'output': \"An antonym of 'complicated' is 'simple'.\"}\n"
          ]
        }
      ],
      "source": [
        "print(\"Another example entry:\\n\\n\", data[999])"
      ]
    },
    {
      "cell_type": "markdown",
      "metadata": {
        "id": "CyNsJ3R0Nq87"
      },
      "source": [
        "We use Alpaca-style prompt formatting, which was the original prompt template for instruction finetuning. For more details, see https://crfm.stanford.edu/2023/03/13/alpaca.html.\n"
      ]
    },
    {
      "cell_type": "code",
      "execution_count": 6,
      "metadata": {
        "id": "rbdV5TsBLKkE"
      },
      "outputs": [],
      "source": [
        "# format the input that we will pass as input to the LLM\n",
        "def format_input(entry):\n",
        "    instruction_text = (\n",
        "        f\"Below is an instruction that describes a task. \"\n",
        "        f\"Write a response that appropriately completes the request.\"\n",
        "        f\"\\n\\n### Instruction:\\n{entry['instruction']}\"\n",
        "    )\n",
        "\n",
        "    input_text = f\"\\n\\n### Input:\\n{entry['input']}\" if entry[\"input\"] else \"\"\n",
        "\n",
        "    return instruction_text + input_text"
      ]
    },
    {
      "cell_type": "code",
      "execution_count": 7,
      "metadata": {
        "colab": {
          "base_uri": "https://localhost:8080/"
        },
        "id": "J0WpbkUZLKmC",
        "outputId": "610d3bbc-4a63-48aa-8258-477a27b7ccd3"
      },
      "outputs": [
        {
          "output_type": "stream",
          "name": "stdout",
          "text": [
            "Below is an instruction that describes a task. Write a response that appropriately completes the request.\n",
            "\n",
            "### Instruction:\n",
            "Identify the correct spelling of the following word.\n",
            "\n",
            "### Input:\n",
            "Ocassion\n",
            "\n",
            "### Response:\n",
            "The correct spelling is 'Occasion.'\n"
          ]
        }
      ],
      "source": [
        "# A formatted response with input field looks like as shown below\n",
        "model_input = format_input(data[50])\n",
        "desired_response = f\"\\n\\n### Response:\\n{data[50]['output']}\"\n",
        "\n",
        "print(model_input + desired_response)"
      ]
    },
    {
      "cell_type": "code",
      "execution_count": 8,
      "metadata": {
        "colab": {
          "base_uri": "https://localhost:8080/"
        },
        "id": "aVOnXNpDLKoH",
        "outputId": "5c451787-655a-4ca0-b310-a4cdd7598ec9"
      },
      "outputs": [
        {
          "output_type": "stream",
          "name": "stdout",
          "text": [
            "Below is an instruction that describes a task. Write a response that appropriately completes the request.\n",
            "\n",
            "### Instruction:\n",
            "What is an antonym of 'complicated'?\n",
            "\n",
            "### Response:\n",
            "An antonym of 'complicated' is 'simple'.\n"
          ]
        }
      ],
      "source": [
        "# Below is a formatted response without input field\n",
        "model_input = format_input(data[999])\n",
        "desired_response = f\"\\n\\n### Response:\\n{data[999]['output']}\"\n",
        "\n",
        "print(model_input + desired_response)"
      ]
    },
    {
      "cell_type": "code",
      "execution_count": 9,
      "metadata": {
        "id": "c9yTuQKmPA8Y"
      },
      "outputs": [],
      "source": [
        "# Split to train, val and test\n",
        "train_portion = int(len(data) * 0.85)  # 85% for training\n",
        "test_portion = int(len(data) * 0.1)   # 10% for testing\n",
        "val_portion = len(data) - train_portion - test_portion  # Remaining 5% for validation\n",
        "\n",
        "train_data = data[:train_portion]\n",
        "test_data = data[train_portion:train_portion + test_portion]\n",
        "val_data = data[train_portion + test_portion:]"
      ]
    },
    {
      "cell_type": "code",
      "execution_count": 10,
      "metadata": {
        "colab": {
          "base_uri": "https://localhost:8080/"
        },
        "id": "Fcowq7GaLKqh",
        "outputId": "b522ee42-38de-468a-c9d8-f062bd715139"
      },
      "outputs": [
        {
          "output_type": "stream",
          "name": "stdout",
          "text": [
            "Training set length: 935\n",
            "Validation set length: 55\n",
            "Test set length: 110\n"
          ]
        }
      ],
      "source": [
        "print(\"Training set length:\", len(train_data))\n",
        "print(\"Validation set length:\", len(val_data))\n",
        "print(\"Test set length:\", len(test_data))"
      ]
    },
    {
      "cell_type": "markdown",
      "metadata": {
        "id": "KZS1b2HLPLbB"
      },
      "source": [
        "### Create data loaders"
      ]
    },
    {
      "cell_type": "code",
      "execution_count": 11,
      "metadata": {
        "id": "dBBXXPKSLKs9"
      },
      "outputs": [],
      "source": [
        "import tiktoken\n",
        "\n",
        "tokenizer = tiktoken.get_encoding(\"gpt2\")"
      ]
    },
    {
      "cell_type": "code",
      "execution_count": 12,
      "metadata": {
        "id": "POGQKfS4LKvr"
      },
      "outputs": [],
      "source": [
        "import torch\n",
        "from torch.utils.data import Dataset\n",
        "\n",
        "\n",
        "class InstructionDataset(Dataset):\n",
        "    def __init__(self, data, tokenizer):\n",
        "        self.data = data\n",
        "\n",
        "        # Pre-tokenize texts\n",
        "        self.encoded_texts = []\n",
        "        for entry in data:\n",
        "            instruction_plus_input = format_input(entry)\n",
        "            response_text = f\"\\n\\n### Response:\\n{entry['output']}\"\n",
        "            full_text = instruction_plus_input + response_text\n",
        "            self.encoded_texts.append(\n",
        "                tokenizer.encode(full_text)\n",
        "            )\n",
        "\n",
        "    def __getitem__(self, index):\n",
        "        return self.encoded_texts[index]\n",
        "\n",
        "    def __len__(self):\n",
        "        return len(self.data)"
      ]
    },
    {
      "cell_type": "code",
      "execution_count": 13,
      "metadata": {
        "colab": {
          "base_uri": "https://localhost:8080/"
        },
        "id": "QzugulD-LKyV",
        "outputId": "ec9f3f34-52d6-4027-d292-b16d1089a7fa"
      },
      "outputs": [
        {
          "output_type": "stream",
          "name": "stdout",
          "text": [
            "[50256]\n"
          ]
        }
      ],
      "source": [
        "print(tokenizer.encode(\"<|endoftext|>\", allowed_special={\"<|endoftext|>\"}))"
      ]
    },
    {
      "cell_type": "code",
      "execution_count": 14,
      "metadata": {
        "id": "bvyh1S5BPd4v"
      },
      "outputs": [],
      "source": [
        "def custom_collate_fn(\n",
        "    batch,\n",
        "    pad_token_id=50256,\n",
        "    ignore_index=-100,\n",
        "    allowed_max_length=None,\n",
        "    device=\"cpu\"\n",
        "):\n",
        "    # Find the longest sequence in the batch\n",
        "    batch_max_length = max(len(item)+1 for item in batch)\n",
        "\n",
        "    # Pad and prepare inputs and targets\n",
        "    inputs_lst, targets_lst = [], []\n",
        "    for item in batch:\n",
        "        # Add an <|endoftext|> token\n",
        "        item += [pad_token_id]\n",
        "        # Pad sequences to max_length\n",
        "        padded = item + [pad_token_id] * (batch_max_length - len(item))\n",
        "        inputs = torch.tensor(padded[:-1])  # Truncate the last token for inputs\n",
        "        targets = torch.tensor(padded[1:])  # Shift +1 to the right for targets\n",
        "\n",
        "        # Replace all but the first padding tokens in targets by ignore_index\n",
        "        mask = targets == pad_token_id\n",
        "        indices = torch.nonzero(mask).squeeze()\n",
        "        if indices.numel() > 1:\n",
        "            targets[indices[1:]] = ignore_index\n",
        "\n",
        "        # Optionally truncate to maximum sequence length\n",
        "        if allowed_max_length is not None:\n",
        "            inputs = inputs[:allowed_max_length]\n",
        "            targets = targets[:allowed_max_length]\n",
        "\n",
        "        inputs_lst.append(inputs)\n",
        "        targets_lst.append(targets)\n",
        "\n",
        "    inputs_tensor = torch.stack(inputs_lst).to(device)\n",
        "    targets_tensor = torch.stack(targets_lst).to(device)\n",
        "\n",
        "    return inputs_tensor, targets_tensor"
      ]
    },
    {
      "cell_type": "code",
      "execution_count": 15,
      "metadata": {
        "colab": {
          "base_uri": "https://localhost:8080/"
        },
        "id": "tWchoV4YPd7O",
        "outputId": "e8ba6c43-b75f-485e-f455-6341f432cef4"
      },
      "outputs": [
        {
          "output_type": "stream",
          "name": "stdout",
          "text": [
            "Device: cuda\n"
          ]
        }
      ],
      "source": [
        "from functools import partial\n",
        "\n",
        "device = torch.device(\"cuda\" if torch.cuda.is_available() else \"cpu\")\n",
        "print(\"Device:\", device)\n",
        "\n",
        "customized_collate_fn = partial(custom_collate_fn, device=device)"
      ]
    },
    {
      "cell_type": "code",
      "execution_count": 16,
      "metadata": {
        "id": "VX0Hkw4BPd9n"
      },
      "outputs": [],
      "source": [
        "from torch.utils.data import DataLoader\n",
        "\n",
        "\n",
        "num_workers = 0\n",
        "batch_size = 8\n",
        "\n",
        "torch.manual_seed(123)\n",
        "\n",
        "train_dataset = InstructionDataset(train_data, tokenizer)\n",
        "train_loader = DataLoader(\n",
        "    train_dataset,\n",
        "    batch_size=batch_size,\n",
        "    collate_fn=customized_collate_fn,\n",
        "    shuffle=True,\n",
        "    drop_last=True\n",
        ")\n",
        "\n",
        "val_dataset = InstructionDataset(val_data, tokenizer)\n",
        "val_loader = DataLoader(\n",
        "    val_dataset,\n",
        "    batch_size=batch_size,\n",
        "    collate_fn=customized_collate_fn,\n",
        "    shuffle=False,\n",
        "    drop_last=False\n",
        ")\n",
        "\n",
        "test_dataset = InstructionDataset(test_data, tokenizer)\n",
        "test_loader = DataLoader(\n",
        "    test_dataset,\n",
        "    batch_size=batch_size,\n",
        "    collate_fn=customized_collate_fn,\n",
        "    shuffle=False,\n",
        "    drop_last=False\n",
        ")"
      ]
    },
    {
      "cell_type": "code",
      "execution_count": 17,
      "metadata": {
        "colab": {
          "base_uri": "https://localhost:8080/"
        },
        "id": "af6BFqPNP6li",
        "outputId": "f022c434-e655-4812-a289-ba3f8e100c34"
      },
      "outputs": [
        {
          "output_type": "stream",
          "name": "stdout",
          "text": [
            "Train loader:\n",
            "torch.Size([8, 61]) torch.Size([8, 61])\n",
            "torch.Size([8, 76]) torch.Size([8, 76])\n",
            "torch.Size([8, 73]) torch.Size([8, 73])\n",
            "torch.Size([8, 68]) torch.Size([8, 68])\n",
            "torch.Size([8, 65]) torch.Size([8, 65])\n",
            "torch.Size([8, 72]) torch.Size([8, 72])\n",
            "torch.Size([8, 80]) torch.Size([8, 80])\n",
            "torch.Size([8, 67]) torch.Size([8, 67])\n",
            "torch.Size([8, 62]) torch.Size([8, 62])\n",
            "torch.Size([8, 75]) torch.Size([8, 75])\n",
            "torch.Size([8, 62]) torch.Size([8, 62])\n",
            "torch.Size([8, 68]) torch.Size([8, 68])\n",
            "torch.Size([8, 67]) torch.Size([8, 67])\n",
            "torch.Size([8, 77]) torch.Size([8, 77])\n",
            "torch.Size([8, 69]) torch.Size([8, 69])\n",
            "torch.Size([8, 79]) torch.Size([8, 79])\n",
            "torch.Size([8, 71]) torch.Size([8, 71])\n",
            "torch.Size([8, 66]) torch.Size([8, 66])\n",
            "torch.Size([8, 83]) torch.Size([8, 83])\n",
            "torch.Size([8, 68]) torch.Size([8, 68])\n",
            "torch.Size([8, 80]) torch.Size([8, 80])\n",
            "torch.Size([8, 71]) torch.Size([8, 71])\n",
            "torch.Size([8, 69]) torch.Size([8, 69])\n",
            "torch.Size([8, 65]) torch.Size([8, 65])\n",
            "torch.Size([8, 68]) torch.Size([8, 68])\n",
            "torch.Size([8, 60]) torch.Size([8, 60])\n",
            "torch.Size([8, 59]) torch.Size([8, 59])\n",
            "torch.Size([8, 69]) torch.Size([8, 69])\n",
            "torch.Size([8, 63]) torch.Size([8, 63])\n",
            "torch.Size([8, 65]) torch.Size([8, 65])\n",
            "torch.Size([8, 76]) torch.Size([8, 76])\n",
            "torch.Size([8, 66]) torch.Size([8, 66])\n",
            "torch.Size([8, 71]) torch.Size([8, 71])\n",
            "torch.Size([8, 91]) torch.Size([8, 91])\n",
            "torch.Size([8, 65]) torch.Size([8, 65])\n",
            "torch.Size([8, 64]) torch.Size([8, 64])\n",
            "torch.Size([8, 67]) torch.Size([8, 67])\n",
            "torch.Size([8, 66]) torch.Size([8, 66])\n",
            "torch.Size([8, 64]) torch.Size([8, 64])\n",
            "torch.Size([8, 65]) torch.Size([8, 65])\n",
            "torch.Size([8, 75]) torch.Size([8, 75])\n",
            "torch.Size([8, 89]) torch.Size([8, 89])\n",
            "torch.Size([8, 59]) torch.Size([8, 59])\n",
            "torch.Size([8, 88]) torch.Size([8, 88])\n",
            "torch.Size([8, 83]) torch.Size([8, 83])\n",
            "torch.Size([8, 83]) torch.Size([8, 83])\n",
            "torch.Size([8, 70]) torch.Size([8, 70])\n",
            "torch.Size([8, 65]) torch.Size([8, 65])\n",
            "torch.Size([8, 74]) torch.Size([8, 74])\n",
            "torch.Size([8, 76]) torch.Size([8, 76])\n",
            "torch.Size([8, 67]) torch.Size([8, 67])\n",
            "torch.Size([8, 75]) torch.Size([8, 75])\n",
            "torch.Size([8, 83]) torch.Size([8, 83])\n",
            "torch.Size([8, 69]) torch.Size([8, 69])\n",
            "torch.Size([8, 67]) torch.Size([8, 67])\n",
            "torch.Size([8, 60]) torch.Size([8, 60])\n",
            "torch.Size([8, 60]) torch.Size([8, 60])\n",
            "torch.Size([8, 66]) torch.Size([8, 66])\n",
            "torch.Size([8, 80]) torch.Size([8, 80])\n",
            "torch.Size([8, 71]) torch.Size([8, 71])\n",
            "torch.Size([8, 61]) torch.Size([8, 61])\n",
            "torch.Size([8, 58]) torch.Size([8, 58])\n",
            "torch.Size([8, 71]) torch.Size([8, 71])\n",
            "torch.Size([8, 67]) torch.Size([8, 67])\n",
            "torch.Size([8, 68]) torch.Size([8, 68])\n",
            "torch.Size([8, 63]) torch.Size([8, 63])\n",
            "torch.Size([8, 87]) torch.Size([8, 87])\n",
            "torch.Size([8, 68]) torch.Size([8, 68])\n",
            "torch.Size([8, 64]) torch.Size([8, 64])\n",
            "torch.Size([8, 68]) torch.Size([8, 68])\n",
            "torch.Size([8, 71]) torch.Size([8, 71])\n",
            "torch.Size([8, 68]) torch.Size([8, 68])\n",
            "torch.Size([8, 71]) torch.Size([8, 71])\n",
            "torch.Size([8, 61]) torch.Size([8, 61])\n",
            "torch.Size([8, 65]) torch.Size([8, 65])\n",
            "torch.Size([8, 67]) torch.Size([8, 67])\n",
            "torch.Size([8, 65]) torch.Size([8, 65])\n",
            "torch.Size([8, 64]) torch.Size([8, 64])\n",
            "torch.Size([8, 60]) torch.Size([8, 60])\n",
            "torch.Size([8, 72]) torch.Size([8, 72])\n",
            "torch.Size([8, 64]) torch.Size([8, 64])\n",
            "torch.Size([8, 70]) torch.Size([8, 70])\n",
            "torch.Size([8, 57]) torch.Size([8, 57])\n",
            "torch.Size([8, 72]) torch.Size([8, 72])\n",
            "torch.Size([8, 64]) torch.Size([8, 64])\n",
            "torch.Size([8, 68]) torch.Size([8, 68])\n",
            "torch.Size([8, 62]) torch.Size([8, 62])\n",
            "torch.Size([8, 74]) torch.Size([8, 74])\n",
            "torch.Size([8, 80]) torch.Size([8, 80])\n",
            "torch.Size([8, 68]) torch.Size([8, 68])\n",
            "torch.Size([8, 70]) torch.Size([8, 70])\n",
            "torch.Size([8, 91]) torch.Size([8, 91])\n",
            "torch.Size([8, 61]) torch.Size([8, 61])\n",
            "torch.Size([8, 66]) torch.Size([8, 66])\n",
            "torch.Size([8, 80]) torch.Size([8, 80])\n",
            "torch.Size([8, 81]) torch.Size([8, 81])\n",
            "torch.Size([8, 74]) torch.Size([8, 74])\n",
            "torch.Size([8, 82]) torch.Size([8, 82])\n",
            "torch.Size([8, 63]) torch.Size([8, 63])\n",
            "torch.Size([8, 83]) torch.Size([8, 83])\n",
            "torch.Size([8, 68]) torch.Size([8, 68])\n",
            "torch.Size([8, 67]) torch.Size([8, 67])\n",
            "torch.Size([8, 77]) torch.Size([8, 77])\n",
            "torch.Size([8, 91]) torch.Size([8, 91])\n",
            "torch.Size([8, 64]) torch.Size([8, 64])\n",
            "torch.Size([8, 61]) torch.Size([8, 61])\n",
            "torch.Size([8, 75]) torch.Size([8, 75])\n",
            "torch.Size([8, 64]) torch.Size([8, 64])\n",
            "torch.Size([8, 66]) torch.Size([8, 66])\n",
            "torch.Size([8, 78]) torch.Size([8, 78])\n",
            "torch.Size([8, 66]) torch.Size([8, 66])\n",
            "torch.Size([8, 64]) torch.Size([8, 64])\n",
            "torch.Size([8, 83]) torch.Size([8, 83])\n",
            "torch.Size([8, 66]) torch.Size([8, 66])\n",
            "torch.Size([8, 74]) torch.Size([8, 74])\n",
            "torch.Size([8, 69]) torch.Size([8, 69])\n"
          ]
        }
      ],
      "source": [
        "print(\"Train loader:\")\n",
        "for x, y in train_loader:\n",
        "    print(x.shape, y.shape)"
      ]
    },
    {
      "cell_type": "code",
      "execution_count": 18,
      "metadata": {
        "colab": {
          "base_uri": "https://localhost:8080/"
        },
        "id": "kYXzUKNWPeCP",
        "outputId": "fa708760-529f-49f8-a6c5-b7537e8c13e5"
      },
      "outputs": [
        {
          "output_type": "stream",
          "name": "stdout",
          "text": [
            "21106, 318, 281, 12064, 326, 8477, 257, 4876, 13, 19430, 257, 2882, 326, 20431, 32543, 262, 2581, 13, 198, 198, 21017, 46486, 25, 198, 30003, 6525, 262, 6827, 1262, 257, 985, 576, 13, 198, 198, 21017, 23412, 25, 198, 464, 5156, 318, 845, 13779, 13, 198, 198, 21017, 18261, 25, 198, 464, 5156, 318, 355, 13779, 355, 257, 4936, 13, 50256, 50256, 50256, 50256, 50256, 50256, 50256, 50256, 50256, "
          ]
        }
      ],
      "source": [
        "for i in x[0]:\n",
        "    print(i.item(), end=\", \")"
      ]
    },
    {
      "cell_type": "code",
      "execution_count": 19,
      "metadata": {
        "colab": {
          "base_uri": "https://localhost:8080/"
        },
        "id": "0VRCWUx4PeEy",
        "outputId": "22ac3d1d-5712-45a4-e69b-41199cd3cfc0"
      },
      "outputs": [
        {
          "output_type": "stream",
          "name": "stdout",
          "text": [
            "318, 281, 12064, 326, 8477, 257, 4876, 13, 19430, 257, 2882, 326, 20431, 32543, 262, 2581, 13, 198, 198, 21017, 46486, 25, 198, 30003, 6525, 262, 6827, 1262, 257, 985, 576, 13, 198, 198, 21017, 23412, 25, 198, 464, 5156, 318, 845, 13779, 13, 198, 198, 21017, 18261, 25, 198, 464, 5156, 318, 355, 13779, 355, 257, 4936, 13, 50256, -100, -100, -100, -100, -100, -100, -100, -100, -100, "
          ]
        }
      ],
      "source": [
        "for i in y[0]:\n",
        "    print(i.item(), end=\", \")"
      ]
    },
    {
      "cell_type": "markdown",
      "metadata": {
        "id": "3NDJS2C-QC26"
      },
      "source": [
        "### Initialize a LLM with pretrained weights"
      ]
    },
    {
      "cell_type": "code",
      "execution_count": 20,
      "metadata": {
        "colab": {
          "base_uri": "https://localhost:8080/"
        },
        "id": "SnGj-R77PeHM",
        "outputId": "420f271f-8fe2-44c9-a518-53caa6c4cbc6"
      },
      "outputs": [
        {
          "output_type": "stream",
          "name": "stderr",
          "text": [
            "checkpoint: 100%|██████████| 77.0/77.0 [00:00<00:00, 53.5kiB/s]\n",
            "encoder.json: 100%|██████████| 1.04M/1.04M [00:01<00:00, 575kiB/s]\n",
            "hparams.json: 100%|██████████| 90.0/90.0 [00:00<00:00, 60.6kiB/s]\n",
            "model.ckpt.data-00000-of-00001: 100%|██████████| 498M/498M [01:08<00:00, 7.27MiB/s]\n",
            "model.ckpt.index: 100%|██████████| 5.21k/5.21k [00:00<00:00, 4.30MiB/s]\n",
            "model.ckpt.meta: 100%|██████████| 471k/471k [00:01<00:00, 335kiB/s]\n",
            "vocab.bpe: 100%|██████████| 456k/456k [00:01<00:00, 326kiB/s]\n"
          ]
        }
      ],
      "source": [
        "from gpt_download import download_and_load_gpt2\n",
        "from previous_chapters import GPTModel, load_weights_into_gpt\n",
        "\n",
        "\n",
        "BASE_CONFIG = {\n",
        "    \"vocab_size\": 50257,     # Vocabulary size\n",
        "    \"context_length\": 1024,  # Context length\n",
        "    \"drop_rate\": 0.0,        # Dropout rate\n",
        "    \"qkv_bias\": True         # Query-key-value bias\n",
        "}\n",
        "\n",
        "model_configs = {\n",
        "    \"gpt2-small (124M)\": {\"emb_dim\": 768, \"n_layers\": 12, \"n_heads\": 12},\n",
        "    \"gpt2-medium (355M)\": {\"emb_dim\": 1024, \"n_layers\": 24, \"n_heads\": 16},\n",
        "    \"gpt2-large (774M)\": {\"emb_dim\": 1280, \"n_layers\": 36, \"n_heads\": 20},\n",
        "    \"gpt2-xl (1558M)\": {\"emb_dim\": 1600, \"n_layers\": 48, \"n_heads\": 25},\n",
        "}\n",
        "\n",
        "CHOOSE_MODEL = \"gpt2-small (124M)\"\n",
        "\n",
        "BASE_CONFIG.update(model_configs[CHOOSE_MODEL])\n",
        "\n",
        "model_size = CHOOSE_MODEL.split(\" \")[-1].lstrip(\"(\").rstrip(\")\")\n",
        "settings, params = download_and_load_gpt2(model_size=model_size, models_dir=\"gpt2\")\n",
        "\n",
        "model = GPTModel(BASE_CONFIG)\n",
        "load_weights_into_gpt(model, params)\n",
        "model.eval();"
      ]
    },
    {
      "cell_type": "markdown",
      "metadata": {
        "id": "uWX8phKfhYxr"
      },
      "source": [
        "To ensure that the model was loaded corrected, let's double-check that it generates coherent text."
      ]
    },
    {
      "cell_type": "code",
      "source": [
        "torch.manual_seed(123)\n",
        "\n",
        "input_text = format_input(val_data[0])\n",
        "print(input_text)"
      ],
      "metadata": {
        "colab": {
          "base_uri": "https://localhost:8080/"
        },
        "id": "boqeA0c3Zzgo",
        "outputId": "c4d7afa1-193e-4a2a-c0fb-7b0e2665ea2a"
      },
      "execution_count": 22,
      "outputs": [
        {
          "output_type": "stream",
          "name": "stdout",
          "text": [
            "Below is an instruction that describes a task. Write a response that appropriately completes the request.\n",
            "\n",
            "### Instruction:\n",
            "Convert the active sentence to passive: 'The chef cooks the meal every day.'\n"
          ]
        }
      ]
    },
    {
      "cell_type": "code",
      "source": [
        "from previous_chapters import (\n",
        "    generate,\n",
        "    text_to_token_ids,\n",
        "    token_ids_to_text\n",
        ")\n",
        "\n",
        "token_ids = generate(\n",
        "    model=model,\n",
        "    idx=text_to_token_ids(input_text, tokenizer),\n",
        "    max_new_tokens=35,\n",
        "    context_size=BASE_CONFIG[\"context_length\"],\n",
        "    eos_id=50256,\n",
        ")\n",
        "\n",
        "generated_text = token_ids_to_text(token_ids, tokenizer)"
      ],
      "metadata": {
        "id": "dLvSi5-qZz5a"
      },
      "execution_count": 23,
      "outputs": []
    },
    {
      "cell_type": "code",
      "source": [
        "response_text = generated_text[len(input_text):].strip()\n",
        "print(response_text)"
      ],
      "metadata": {
        "colab": {
          "base_uri": "https://localhost:8080/"
        },
        "id": "PU1S-7orZ8gK",
        "outputId": "c13adfa9-179c-4647-a483-6b1c19b638c0"
      },
      "execution_count": 24,
      "outputs": [
        {
          "output_type": "stream",
          "name": "stdout",
          "text": [
            "### Instruction:\n",
            "\n",
            "Convert the active sentence to passive: 'The chef cooks the meal every day.'\n",
            "\n",
            "### Instruction:\n",
            "\n",
            "Convert the active\n"
          ]
        }
      ]
    },
    {
      "cell_type": "markdown",
      "source": [
        "We can see that the model is not good off-the-shelf."
      ],
      "metadata": {
        "id": "8EAVD8p3aHtu"
      }
    },
    {
      "cell_type": "markdown",
      "metadata": {
        "id": "YkmJKdY-RRWY"
      },
      "source": [
        "### Finetuning the LLM on instruction data"
      ]
    },
    {
      "cell_type": "code",
      "execution_count": 25,
      "metadata": {
        "id": "qcTJzjrXYAqH"
      },
      "outputs": [],
      "source": [
        "from previous_chapters import (\n",
        "    calc_loss_loader,\n",
        "    train_model_simple\n",
        ")"
      ]
    },
    {
      "cell_type": "markdown",
      "metadata": {
        "id": "lnQ1hc7aWovu"
      },
      "source": [
        "Using the `calc_closs_loader`, we compute the initial training, validation, and test set losses before we start training."
      ]
    },
    {
      "cell_type": "code",
      "execution_count": 26,
      "metadata": {
        "colab": {
          "base_uri": "https://localhost:8080/"
        },
        "id": "np62R4grPePE",
        "outputId": "070844d3-dfcc-43c6-e7b6-99b0b545bdfa"
      },
      "outputs": [
        {
          "output_type": "stream",
          "name": "stdout",
          "text": [
            "Training loss: 4.167139339447021\n",
            "Validation loss: 4.050935745239258\n"
          ]
        }
      ],
      "source": [
        "model.to(device)\n",
        "\n",
        "torch.manual_seed(123)  # For reproducibility due to the shuffling in the data loader\n",
        "\n",
        "with torch.no_grad():\n",
        "    train_loss = calc_loss_loader(train_loader, model, device, num_batches=5)\n",
        "    val_loss = calc_loss_loader(val_loader, model, device, num_batches=5)\n",
        "\n",
        "print(\"Training loss:\", train_loss)\n",
        "print(\"Validation loss:\", val_loss)"
      ]
    },
    {
      "cell_type": "code",
      "execution_count": null,
      "metadata": {
        "colab": {
          "base_uri": "https://localhost:8080/"
        },
        "id": "9-XWwke1SfOU",
        "outputId": "30c9e703-48b6-4f43-a7e7-cd9ad21682d2"
      },
      "outputs": [
        {
          "name": "stdout",
          "output_type": "stream",
          "text": [
            "Ep 1 (Step 000000): Train loss 3.119, Val loss 3.069\n",
            "Ep 1 (Step 000005): Train loss 1.696, Val loss 1.570\n",
            "Ep 1 (Step 000010): Train loss 1.096, Val loss 1.164\n",
            "Ep 1 (Step 000015): Train loss 1.053, Val loss 1.083\n",
            "Ep 1 (Step 000020): Train loss 0.970, Val loss 1.038\n",
            "Ep 1 (Step 000025): Train loss 0.920, Val loss 1.002\n",
            "Ep 1 (Step 000030): Train loss 0.960, Val loss 0.978\n",
            "Ep 1 (Step 000035): Train loss 0.878, Val loss 0.951\n",
            "Ep 1 (Step 000040): Train loss 0.847, Val loss 0.943\n",
            "Ep 1 (Step 000045): Train loss 0.777, Val loss 0.925\n",
            "Ep 1 (Step 000050): Train loss 0.869, Val loss 0.911\n",
            "Ep 1 (Step 000055): Train loss 0.924, Val loss 0.893\n",
            "Ep 1 (Step 000060): Train loss 0.873, Val loss 0.878\n",
            "Ep 1 (Step 000065): Train loss 0.800, Val loss 0.867\n",
            "Ep 1 (Step 000070): Train loss 0.694, Val loss 0.860\n",
            "Ep 1 (Step 000075): Train loss 0.706, Val loss 0.856\n",
            "Ep 1 (Step 000080): Train loss 0.753, Val loss 0.847\n",
            "Ep 1 (Step 000085): Train loss 0.680, Val loss 0.836\n",
            "Ep 1 (Step 000090): Train loss 0.729, Val loss 0.827\n",
            "Ep 1 (Step 000095): Train loss 0.653, Val loss 0.821\n",
            "Ep 1 (Step 000100): Train loss 0.634, Val loss 0.808\n",
            "Ep 1 (Step 000105): Train loss 0.728, Val loss 0.803\n",
            "Ep 1 (Step 000110): Train loss 0.719, Val loss 0.799\n",
            "Ep 1 (Step 000115): Train loss 0.672, Val loss 0.796\n",
            "Below is an instruction that describes a task. Write a response that appropriately completes the request.  ### Instruction: Convert the active sentence to passive: 'The chef cooks the meal every day.'  ### Response: The chef cooks the meal every day.<|endoftext|>The following is an instruction that describes a task. Write a response that appropriately completes the request.  ### Input: The following is an instruction that describes a task.\n",
            "Ep 2 (Step 000120): Train loss 0.592, Val loss 0.790\n",
            "Ep 2 (Step 000125): Train loss 0.626, Val loss 0.801\n",
            "Ep 2 (Step 000130): Train loss 0.584, Val loss 0.788\n",
            "Ep 2 (Step 000135): Train loss 0.547, Val loss 0.791\n",
            "Ep 2 (Step 000140): Train loss 0.580, Val loss 0.789\n",
            "Ep 2 (Step 000145): Train loss 0.518, Val loss 0.785\n",
            "Ep 2 (Step 000150): Train loss 0.520, Val loss 0.780\n",
            "Ep 2 (Step 000155): Train loss 0.594, Val loss 0.784\n",
            "Ep 2 (Step 000160): Train loss 0.585, Val loss 0.785\n",
            "Ep 2 (Step 000165): Train loss 0.537, Val loss 0.781\n",
            "Ep 2 (Step 000170): Train loss 0.440, Val loss 0.775\n",
            "Ep 2 (Step 000175): Train loss 0.479, Val loss 0.769\n",
            "Ep 2 (Step 000180): Train loss 0.540, Val loss 0.760\n",
            "Ep 2 (Step 000185): Train loss 0.567, Val loss 0.757\n",
            "Ep 2 (Step 000190): Train loss 0.442, Val loss 0.742\n",
            "Ep 2 (Step 000195): Train loss 0.469, Val loss 0.729\n",
            "Ep 2 (Step 000200): Train loss 0.408, Val loss 0.728\n",
            "Ep 2 (Step 000205): Train loss 0.479, Val loss 0.724\n",
            "Ep 2 (Step 000210): Train loss 0.516, Val loss 0.724\n",
            "Ep 2 (Step 000215): Train loss 0.539, Val loss 0.733\n",
            "Ep 2 (Step 000220): Train loss 0.414, Val loss 0.738\n",
            "Ep 2 (Step 000225): Train loss 0.487, Val loss 0.738\n",
            "Ep 2 (Step 000230): Train loss 0.425, Val loss 0.742\n",
            "Below is an instruction that describes a task. Write a response that appropriately completes the request.  ### Instruction: Convert the active sentence to passive: 'The chef cooks the meal every day.'  ### Response: The chef cooks the meal every day.<|endoftext|>The following is an instruction that describes a task. Write a response that appropriately completes the request.  ### Input: What is the chemical symbol for carbon?  \n",
            "Ep 3 (Step 000235): Train loss 0.487, Val loss 0.736\n",
            "Ep 3 (Step 000240): Train loss 0.410, Val loss 0.749\n",
            "Ep 3 (Step 000245): Train loss 0.400, Val loss 0.754\n",
            "Ep 3 (Step 000250): Train loss 0.394, Val loss 0.737\n",
            "Ep 3 (Step 000255): Train loss 0.405, Val loss 0.735\n",
            "Ep 3 (Step 000260): Train loss 0.390, Val loss 0.735\n",
            "Ep 3 (Step 000265): Train loss 0.422, Val loss 0.735\n",
            "Ep 3 (Step 000270): Train loss 0.432, Val loss 0.739\n",
            "Ep 3 (Step 000275): Train loss 0.380, Val loss 0.741\n",
            "Ep 3 (Step 000280): Train loss 0.406, Val loss 0.750\n",
            "Ep 3 (Step 000285): Train loss 0.394, Val loss 0.752\n",
            "Ep 3 (Step 000290): Train loss 0.399, Val loss 0.756\n",
            "Ep 3 (Step 000295): Train loss 0.361, Val loss 0.756\n",
            "Ep 3 (Step 000300): Train loss 0.358, Val loss 0.742\n",
            "Ep 3 (Step 000305): Train loss 0.365, Val loss 0.740\n",
            "Ep 3 (Step 000310): Train loss 0.339, Val loss 0.742\n",
            "Ep 3 (Step 000315): Train loss 0.304, Val loss 0.738\n",
            "Ep 3 (Step 000320): Train loss 0.359, Val loss 0.737\n",
            "Ep 3 (Step 000325): Train loss 0.325, Val loss 0.741\n",
            "Ep 3 (Step 000330): Train loss 0.307, Val loss 0.748\n",
            "Ep 3 (Step 000335): Train loss 0.310, Val loss 0.754\n",
            "Ep 3 (Step 000340): Train loss 0.326, Val loss 0.741\n",
            "Ep 3 (Step 000345): Train loss 0.347, Val loss 0.730\n",
            "Below is an instruction that describes a task. Write a response that appropriately completes the request.  ### Instruction: Convert the active sentence to passive: 'The chef cooks the meal every day.'  ### Response: The chef cooks the meal every day.<|endoftext|>The following is an instruction that describes a task. Write a response that appropriately completes the request.  ### Input: What is the capital of the United Kingdom? \n",
            "Ep 4 (Step 000350): Train loss 0.312, Val loss 0.738\n",
            "Ep 4 (Step 000355): Train loss 0.287, Val loss 0.790\n",
            "Ep 4 (Step 000360): Train loss 0.301, Val loss 0.822\n",
            "Ep 4 (Step 000365): Train loss 0.311, Val loss 0.799\n",
            "Ep 4 (Step 000370): Train loss 0.380, Val loss 0.774\n",
            "Ep 4 (Step 000375): Train loss 0.316, Val loss 0.762\n",
            "Ep 4 (Step 000380): Train loss 0.271, Val loss 0.780\n",
            "Ep 4 (Step 000385): Train loss 0.312, Val loss 0.782\n",
            "Ep 4 (Step 000390): Train loss 0.272, Val loss 0.792\n",
            "Ep 4 (Step 000395): Train loss 0.265, Val loss 0.796\n",
            "Ep 4 (Step 000400): Train loss 0.272, Val loss 0.791\n",
            "Ep 4 (Step 000405): Train loss 0.312, Val loss 0.787\n",
            "Ep 4 (Step 000410): Train loss 0.250, Val loss 0.781\n",
            "Ep 4 (Step 000415): Train loss 0.263, Val loss 0.780\n",
            "Ep 4 (Step 000420): Train loss 0.256, Val loss 0.785\n",
            "Ep 4 (Step 000425): Train loss 0.247, Val loss 0.800\n",
            "Ep 4 (Step 000430): Train loss 0.264, Val loss 0.808\n",
            "Ep 4 (Step 000435): Train loss 0.263, Val loss 0.804\n",
            "Ep 4 (Step 000440): Train loss 0.255, Val loss 0.787\n",
            "Ep 4 (Step 000445): Train loss 0.260, Val loss 0.783\n",
            "Ep 4 (Step 000450): Train loss 0.243, Val loss 0.786\n",
            "Ep 4 (Step 000455): Train loss 0.251, Val loss 0.784\n",
            "Ep 4 (Step 000460): Train loss 0.262, Val loss 0.763\n",
            "Below is an instruction that describes a task. Write a response that appropriately completes the request.  ### Instruction: Convert the active sentence to passive: 'The chef cooks the meal every day.'  ### Response: The chef cooks the meal every day.<|endoftext|>The following is an instruction that describes a task. Write a response that appropriately completes the request.  ### Instruction: What is the capital of the United Kingdom? \n",
            "Ep 5 (Step 000465): Train loss 0.275, Val loss 0.752\n",
            "Ep 5 (Step 000470): Train loss 0.232, Val loss 0.777\n",
            "Ep 5 (Step 000475): Train loss 0.244, Val loss 0.804\n",
            "Ep 5 (Step 000480): Train loss 0.228, Val loss 0.808\n",
            "Ep 5 (Step 000485): Train loss 0.239, Val loss 0.805\n",
            "Ep 5 (Step 000490): Train loss 0.242, Val loss 0.808\n",
            "Ep 5 (Step 000495): Train loss 0.243, Val loss 0.805\n",
            "Ep 5 (Step 000500): Train loss 0.226, Val loss 0.803\n",
            "Ep 5 (Step 000505): Train loss 0.253, Val loss 0.815\n",
            "Ep 5 (Step 000510): Train loss 0.224, Val loss 0.813\n",
            "Ep 5 (Step 000515): Train loss 0.207, Val loss 0.815\n",
            "Ep 5 (Step 000520): Train loss 0.237, Val loss 0.821\n",
            "Ep 5 (Step 000525): Train loss 0.261, Val loss 0.824\n",
            "Ep 5 (Step 000530): Train loss 0.227, Val loss 0.815\n",
            "Ep 5 (Step 000535): Train loss 0.199, Val loss 0.801\n",
            "Ep 5 (Step 000540): Train loss 0.228, Val loss 0.804\n",
            "Ep 5 (Step 000545): Train loss 0.224, Val loss 0.814\n",
            "Ep 5 (Step 000550): Train loss 0.230, Val loss 0.815\n",
            "Ep 5 (Step 000555): Train loss 0.225, Val loss 0.803\n",
            "Ep 5 (Step 000560): Train loss 0.218, Val loss 0.797\n",
            "Ep 5 (Step 000565): Train loss 0.199, Val loss 0.797\n",
            "Ep 5 (Step 000570): Train loss 0.211, Val loss 0.806\n",
            "Ep 5 (Step 000575): Train loss 0.215, Val loss 0.810\n",
            "Below is an instruction that describes a task. Write a response that appropriately completes the request.  ### Instruction: Convert the active sentence to passive: 'The chef cooks the meal every day.'  ### Response: The chef cooks the meal every day.<|endoftext|>The following is an instruction that describes a task. Write a response that appropriately completes the request.  ### Instruction: What is the chemical formula for sodium carbonate?\n",
            "Training completed in 3.65 minutes.\n"
          ]
        }
      ],
      "source": [
        "# takes a while to run on CPU\n",
        "\n",
        "import time\n",
        "\n",
        "start_time = time.time()\n",
        "\n",
        "torch.manual_seed(123)\n",
        "\n",
        "optimizer = torch.optim.AdamW(model.parameters(), lr=0.00005, weight_decay=0.1)\n",
        "\n",
        "num_epochs = 5\n",
        "\n",
        "train_losses, val_losses, tokens_seen = train_model_simple(\n",
        "    model, train_loader, val_loader, optimizer, device,\n",
        "    num_epochs=num_epochs, eval_freq=5, eval_iter=5,\n",
        "    start_context=format_input(val_data[0]), tokenizer=tokenizer\n",
        ")\n",
        "\n",
        "end_time = time.time()\n",
        "execution_time_minutes = (end_time - start_time) / 60\n",
        "print(f\"Training completed in {execution_time_minutes:.2f} minutes.\")"
      ]
    },
    {
      "cell_type": "code",
      "execution_count": null,
      "metadata": {
        "id": "iKQ9jddpVYLw"
      },
      "outputs": [],
      "source": [
        "# Save the model in case we want to reuse the model later\n",
        "torch.save(model.state_dict(), \"instruct_model.pth\")"
      ]
    },
    {
      "cell_type": "code",
      "execution_count": null,
      "metadata": {
        "colab": {
          "base_uri": "https://localhost:8080/",
          "height": 307
        },
        "id": "GarStmfHSfQ5",
        "outputId": "cfe76f59-27f6-4d16-da02-d26b15c781a4"
      },
      "outputs": [
        {
          "data": {
            "image/png": "[encoded data removed]",
            "text/plain": [
              "<Figure size 500x300 with 2 Axes>"
            ]
          },
          "metadata": {},
          "output_type": "display_data"
        }
      ],
      "source": [
        "from previous_chapters import plot_losses\n",
        "\n",
        "epochs_tensor = torch.linspace(0, num_epochs, len(train_losses))\n",
        "plot_losses(epochs_tensor, tokens_seen, train_losses, val_losses)"
      ]
    },
    {
      "cell_type": "markdown",
      "metadata": {
        "id": "7qnzLQ8lWfbU"
      },
      "source": [
        "### Using the LLM to follow instructions\n",
        "\n",
        "Let's use the finetuned GPT model in action."
      ]
    },
    {
      "cell_type": "code",
      "execution_count": null,
      "metadata": {
        "colab": {
          "base_uri": "https://localhost:8080/"
        },
        "id": "eYLEUOHvWhxY",
        "outputId": "20d7e452-e933-4717-fe8a-891ded9f7fe2"
      },
      "outputs": [
        {
          "data": {
            "text/plain": [
              "<All keys matched successfully>"
            ]
          },
          "execution_count": 24,
          "metadata": {},
          "output_type": "execute_result"
        }
      ],
      "source": [
        "# Load the newly trained model\n",
        "\n",
        "# when using server\n",
        "model_state_dict = torch.load(\"../../../instruct_model.pth\", map_location=device)\n",
        "# when using colab\n",
        "#model_state_dict = torch.load(\"instruct_model.pth\")\n",
        "model.load_state_dict(model_state_dict)"
      ]
    },
    {
      "cell_type": "markdown",
      "metadata": {
        "id": "z-b90h_LSzKi"
      },
      "source": [
        "### Run instruction model on test dataset and extract responses"
      ]
    },
    {
      "cell_type": "code",
      "execution_count": null,
      "metadata": {
        "id": "EOX5DJCTSfTZ"
      },
      "outputs": [],
      "source": [
        "def extract_response(response):\n",
        "    return response[response.find(\"\\n### Response\")+len(\"\\n### Response:\")+1:]"
      ]
    },
    {
      "cell_type": "code",
      "execution_count": null,
      "metadata": {
        "colab": {
          "base_uri": "https://localhost:8080/"
        },
        "id": "6Oe32RlgSfWF",
        "outputId": "eb4ede7b-426f-4376-cce4-9ed11935b72f"
      },
      "outputs": [
        {
          "name": "stdout",
          "output_type": "stream",
          "text": [
            "Below is an instruction that describes a task. Write a response that appropriately completes the request.\n",
            "\n",
            "### Instruction:\n",
            "Classify each sentence as either declarative, interrogative, imperative, or exclamatory.\n",
            "\n",
            "### Input:\n",
            "Please open the door.\n",
            "\n",
            "Correct response:\n",
            ">> The classification of the sentence 'Please open the door.' is imperative.\n",
            "\n",
            "Model response:\n",
            ">> Clarity is a function of time.\n",
            "-------------------------------------\n",
            "Below is an instruction that describes a task. Write a response that appropriately completes the request.\n",
            "\n",
            "### Instruction:\n",
            "Rewrite the sentence to use a negative adverb.\n",
            "\n",
            "### Input:\n",
            "She always remembers to call.\n",
            "\n",
            "Correct response:\n",
            ">> She never forgets to call.\n",
            "\n",
            "Model response:\n",
            ">> She always calls.\n",
            "-------------------------------------\n",
            "Below is an instruction that describes a task. Write a response that appropriately completes the request.\n",
            "\n",
            "### Instruction:\n",
            "Convert 50 miles per hour to kilometers per hour.\n",
            "\n",
            "Correct response:\n",
            ">> 50 miles per hour is approximately 80.47 kilometers per hour.\n",
            "\n",
            "Model response:\n",
            ">> 50 miles per hour is approximately 32.07 kilometers per hour.\n",
            "-------------------------------------\n"
          ]
        }
      ],
      "source": [
        "torch.manual_seed(123)\n",
        "\n",
        "# last three samples from test dataset\n",
        "for entry in test_data[-3:]:\n",
        "\n",
        "    # prepare input\n",
        "    input_text = format_input(entry)\n",
        "\n",
        "    # run inference\n",
        "    token_ids = generate(\n",
        "        model=model,\n",
        "        idx=text_to_token_ids(input_text, tokenizer).to(device),\n",
        "        max_new_tokens=256,\n",
        "        context_size=BASE_CONFIG[\"context_length\"],\n",
        "        eos_id=50256\n",
        "    )\n",
        "\n",
        "    # post process output\n",
        "    response = token_ids_to_text(token_ids, tokenizer)\n",
        "    response_text = extract_response(response)\n",
        "\n",
        "    # print output\n",
        "    print(input_text)\n",
        "    print(f\"\\nCorrect response:\\n>> {entry['output']}\")\n",
        "    print(f\"\\nModel response:\\n>> {response_text.strip()}\")\n",
        "    print(\"-------------------------------------\")"
      ]
    },
    {
      "cell_type": "markdown",
      "metadata": {
        "id": "pWNh-bTGjJ4X"
      },
      "source": [
        "### Run instruction model on custom inputs"
      ]
    },
    {
      "cell_type": "code",
      "execution_count": null,
      "metadata": {
        "id": "C5zwksbsZrgN"
      },
      "outputs": [],
      "source": [
        "def run_instruction_model(instruction_text, input_text):\n",
        "\n",
        "  # prepare inputs\n",
        "  input_text = format_input({'instruction': instruction_text, 'input': input_text})\n",
        "\n",
        "  # model inference\n",
        "  token_ids = generate(\n",
        "      model=model,\n",
        "      idx=text_to_token_ids(input_text, tokenizer).to(device),\n",
        "      max_new_tokens=256,\n",
        "      context_size=BASE_CONFIG[\"context_length\"],\n",
        "      eos_id=50256\n",
        "  )\n",
        "\n",
        "  # post process output\n",
        "  response = token_ids_to_text(token_ids, tokenizer)\n",
        "  response_text = extract_response(response)\n",
        "\n",
        "  # print output and return the output\n",
        "  print(input_text)\n",
        "  print(f\"\\nModel response:\\n>> {response_text.strip()}\")\n",
        "  print(\"-------------------------------------\")\n",
        "  return response_text.strip()"
      ]
    },
    {
      "cell_type": "code",
      "execution_count": null,
      "metadata": {
        "colab": {
          "base_uri": "https://localhost:8080/"
        },
        "id": "z5CxBSxRbq-0",
        "outputId": "04e7fb04-8b8e-4bc8-ea2c-5373e4aa2b0a"
      },
      "outputs": [
        {
          "name": "stdout",
          "output_type": "stream",
          "text": [
            "Below is an instruction that describes a task. Write a response that appropriately completes the request.\n",
            "\n",
            "### Instruction:\n",
            "Rewrite the sentence using a simile.\n",
            "\n",
            "### Input:\n",
            "The car is very fast.\n",
            "\n",
            "Model response:\n",
            ">> The car is as fast as a cheetah.\n",
            "-------------------------------------\n"
          ]
        }
      ],
      "source": [
        "instruction = \"Rewrite the sentence using a simile.\"\n",
        "input = \"The car is very fast.\"\n",
        "\n",
        "output_text = run_instruction_model(instruction, input)"
      ]
    },
    {
      "cell_type": "code",
      "execution_count": null,
      "metadata": {
        "colab": {
          "base_uri": "https://localhost:8080/"
        },
        "id": "xTWUzFUGPeUn",
        "outputId": "35bad282-7cd6-427f-bd1d-28fc5c816549"
      },
      "outputs": [
        {
          "name": "stdout",
          "output_type": "stream",
          "text": [
            "Below is an instruction that describes a task. Write a response that appropriately completes the request.\n",
            "\n",
            "### Instruction:\n",
            "Is the following text a spam?\n",
            "\n",
            "### Input:\n",
            "You are a winner you have been specially selected to receive $1000 cash or a $2000 award.\n",
            "\n",
            "Model response:\n",
            ">> The text was a spam.\n",
            "-------------------------------------\n"
          ]
        }
      ],
      "source": [
        "instruction_2 = \"Is the following text a spam?\"\n",
        "input_2 = \"You are a winner you have been specially selected to receive $1000 cash or a $2000 award.\"\n",
        "\n",
        "output_text2 = run_instruction_model(instruction_2, input_2)"
      ]
    },
    {
      "cell_type": "code",
      "execution_count": null,
      "metadata": {
        "colab": {
          "base_uri": "https://localhost:8080/"
        },
        "id": "ZKwhY-LKcsSd",
        "outputId": "2e25e0f9-04a3-4f5a-8675-11b72576ccb5"
      },
      "outputs": [
        {
          "name": "stdout",
          "output_type": "stream",
          "text": [
            "Below is an instruction that describes a task. Write a response that appropriately completes the request.\n",
            "\n",
            "### Instruction:\n",
            "Translate into French.\n",
            "\n",
            "### Input:\n",
            "Hello, How are you?\n",
            "\n",
            "Model response:\n",
            ">> I am in France.\n",
            "-------------------------------------\n"
          ]
        }
      ],
      "source": [
        "instruction_3 = \"Translate into French.\"\n",
        "input_3 = \"Hello, How are you?\"\n",
        "\n",
        "output_text3 = run_instruction_model(instruction_3, input_3)"
      ]
    },
    {
      "cell_type": "code",
      "execution_count": null,
      "metadata": {
        "colab": {
          "base_uri": "https://localhost:8080/"
        },
        "id": "jb_XxvhFdnbP",
        "outputId": "c6e5e37f-1e3a-4d4a-df3b-a739d05b4dbc"
      },
      "outputs": [
        {
          "name": "stdout",
          "output_type": "stream",
          "text": [
            "Below is an instruction that describes a task. Write a response that appropriately completes the request.\n",
            "\n",
            "### Instruction:\n",
            "Convert 3 meters to centimeters.\n",
            "\n",
            "Model response:\n",
            ">> 3 meters is 300 centimeters.\n",
            "-------------------------------------\n"
          ]
        }
      ],
      "source": [
        "instruction_4 = \"Convert 3 meters to centimeters.\"\n",
        "input_4 = \"\"\n",
        "\n",
        "output_text3 = run_instruction_model(instruction_4, input_4)"
      ]
    },
    {
      "cell_type": "code",
      "execution_count": null,
      "metadata": {
        "id": "f2wMJuE8YAqQ"
      },
      "outputs": [],
      "source": [
        "# cleanup\n",
        "!rm -rf /home/haszun/june-20/LLMs-from-scratch/"
      ]
    },
    {
      "cell_type": "markdown",
      "metadata": {
        "id": "M4qgSqsmB8oU"
      },
      "source": [
        "## 3. Learning resources\n",
        "* [Intro to Large Language Models](https://youtu.be/zjkBMFhNj_g?si=bIVqXiQratJdqvhj)\n",
        "* [Understanding Large Language Models](https://magazine.sebastianraschka.com/p/understanding-large-language-models)\n",
        "* [QLoRA is all you need (Fast and lightweight model fine-tuning)](https://youtu.be/J_3hDqSvpmg?si=b0j8O2puV42z18UL)\n",
        "* [Parameter-efficient Finetuning with LoRA](https://github.com/rasbt/LLMs-from-scratch/blob/main/appendix-E/01_main-chapter-code/appendix-E.ipynb)\n",
        "* [QLoRA: Efficient Finetuning of Quantized LLMs](https://arxiv.org/abs/2305.14314)\n",
        "* [Run Mixtral-8x7B models in Colab or consumer desktops](https://github.com/dvmazur/mixtral-offloading)\n",
        "\n",
        "### Acknowledgements\n",
        "\n",
        "This repository was built using [Implementing a ChatGPT-like LLM in PyTorch from scratch, step by step](https://github.com/rasbt/LLMs-from-scratch)."
      ]
    },
    {
      "cell_type": "code",
      "execution_count": null,
      "metadata": {
        "colab": {
          "base_uri": "https://localhost:8080/"
        },
        "id": "x0R30bm_MKtp",
        "outputId": "6ba2be84-3f38-4a47-b84a-1782ccd3c91a"
      },
      "outputs": [
        {
          "name": "stdout",
          "output_type": "stream",
          "text": [
            "The End.\n"
          ]
        }
      ],
      "source": [
        "print(\"The End.\")"
      ]
    },
    {
      "cell_type": "code",
      "execution_count": null,
      "metadata": {
        "id": "miQsnhH_YAqR"
      },
      "outputs": [],
      "source": []
    }
  ],
  "metadata": {
    "accelerator": "GPU",
    "colab": {
      "collapsed_sections": [
        "M4qgSqsmB8oU"
      ],
      "gpuType": "T4",
      "provenance": []
    },
    "kernelspec": {
      "display_name": "Python 3 (ipykernel)",
      "language": "python",
      "name": "python3"
    },
    "language_info": {
      "codemirror_mode": {
        "name": "ipython",
        "version": 3
      },
      "file_extension": ".py",
      "mimetype": "text/x-python",
      "name": "python",
      "nbconvert_exporter": "python",
      "pygments_lexer": "ipython3",
      "version": "3.10.12"
    }
  },
  "nbformat": 4,
  "nbformat_minor": 0
}